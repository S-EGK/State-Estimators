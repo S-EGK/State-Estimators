{
  "nbformat": 4,
  "nbformat_minor": 0,
  "metadata": {
    "colab": {
      "provenance": [],
      "collapsed_sections": [
        "QlUJwj4No7nN",
        "Fpfa3801prDu"
      ],
      "toc_visible": true,
      "include_colab_link": true
    },
    "kernelspec": {
      "display_name": "Python 3",
      "name": "python3"
    },
    "language_info": {
      "name": "python"
    }
  },
  "cells": [
    {
      "cell_type": "markdown",
      "metadata": {
        "id": "view-in-github",
        "colab_type": "text"
      },
      "source": [
        "<a href=\"https://colab.research.google.com/github/S-EGK/State-Estimators/blob/main/EFK%20estimator%20for%20Quadrotor.ipynb\" target=\"_parent\"><img src=\"https://colab.research.google.com/assets/colab-badge.svg\" alt=\"Open In Colab\"/></a>"
      ]
    },
    {
      "cell_type": "markdown",
      "metadata": {
        "id": "QlUJwj4No7nN"
      },
      "source": [
        "# Importing Libraries"
      ]
    },
    {
      "cell_type": "code",
      "metadata": {
        "id": "IyUtQzkg-qrq"
      },
      "source": [
        "# Importing Libraries\n",
        "import numpy as np\n",
        "import scipy.signal as signal\n",
        "import scipy.linalg as linalg\n",
        "import math\n",
        "from math import cos, sin, tan, sqrt\n",
        "from scipy.integrate import solve_ivp\n",
        "from mpl_toolkits.mplot3d import Axes3D\n",
        "import matplotlib.pyplot as plt\n",
        "from matplotlib import animation\n",
        "from IPython.display import HTML\n",
        "from matplotlib.patches import Circle, PathPatch\n",
        "import mpl_toolkits.mplot3d.art3d as art3d\n",
        "import random"
      ],
      "execution_count": null,
      "outputs": []
    },
    {
      "cell_type": "markdown",
      "metadata": {
        "id": "NR1usRDFpC6-"
      },
      "source": [
        "# Initialization"
      ]
    },
    {
      "cell_type": "code",
      "metadata": {
        "id": "WUVbz_8fnxoR"
      },
      "source": [
        "# Parameters\n",
        "g = 9.806650  #gravity\n",
        "m = 1.56  #mass\n",
        "Jx = 0.114700 #moi wrt x\n",
        "Jy = 0.057600 #moi wrt y\n",
        "Jz = 0.171200 #moi wrt z\n",
        "Ts = 0.05 # sampling time\n",
        "\n",
        "'States'\n",
        "\n",
        "# coordinates\n",
        "pn = 0 #north\n",
        "pe = 0 #east\n",
        "pd = 0 #down\n",
        "\n",
        "# velocities\n",
        "u = 0 #wrt north\n",
        "v = 0 #wrt east\n",
        "w = 0 #wrt down\n",
        "\n",
        "# angles\n",
        "phi = 0   #roll\n",
        "theta = 0 #pitch\n",
        "psi = 0   #yaw\n",
        "\n",
        "# angular rates\n",
        "p = 0 #wrt roll\n",
        "q = 0 #wrt pitch\n",
        "r = 0 #wrt yaw\n",
        "\n",
        "# initial states\n",
        "states = np.array([pn, pe, pd, u, v, w, phi, theta, psi, p, q, r])\n",
        "\n",
        "# Data collection for trajectories and plots\n",
        "pn_data = []\n",
        "pe_data = []\n",
        "h_data = []\n",
        "vn_data = []\n",
        "ve_data = []\n",
        "vd_data = []\n",
        "phi_data = []\n",
        "theta_data = []\n",
        "psi_data = []\n",
        "p_data = []\n",
        "q_data = []\n",
        "r_data = []\n",
        "phi_c_data = []\n",
        "theta_c_data = []\n",
        "r_c_data = []\n",
        "pn_t_data = []\n",
        "pe_t_data = []\n",
        "pd_t_data = []\n",
        "vn_t_data = []\n",
        "ve_t_data = []\n",
        "vd_t_data = []\n",
        "psi_t_data = []\n",
        "\n",
        "p_sensor_data = []\n",
        "q_sensor_data = []\n",
        "r_sensor_data = []\n",
        "az_sensor_data = []\n",
        "pn_sensor_data = []\n",
        "pe_sensor_data = []\n",
        "pd_sensor_data = []\n",
        "\n",
        "#Simulation Parameters\n",
        "Ts = 0.05 # sampling time\n",
        "Tfinal = 15\n",
        "Tsteps = Tfinal/Ts # number of frames\n",
        "frames = int(Tsteps)"
      ],
      "execution_count": null,
      "outputs": []
    },
    {
      "cell_type": "markdown",
      "metadata": {
        "id": "S_1OOJOvpjqJ"
      },
      "source": [
        "## Prediction Initialization"
      ]
    },
    {
      "cell_type": "code",
      "metadata": {
        "id": "HVH3a7VypmDG"
      },
      "source": [
        "# State Initialization\n",
        "pn_hat = 0\n",
        "pe_hat = 0\n",
        "pd_hat = 0\n",
        "u_hat = 0\n",
        "v_hat = 0\n",
        "w_hat = 0\n",
        "psi_hat = 0\n",
        "states_hat = np.array([[pn_hat, pe_hat, pd_hat, u_hat, v_hat, w_hat, psi_hat]], dtype = 'float').T\n",
        "\n",
        "# Covariance Matrix\n",
        "P_EKF = np.identity(7)\n",
        "\n",
        "# Step Time\n",
        "t_out = 0.05\n",
        "\n",
        "# Covariance Matrices\n",
        "Q_EKF = np.array([[0.1,0,0,0,0,0,0],\n",
        "                  [0,0.1,0,0,0,0,0],\n",
        "                  [0,0,0.1,0,0,0,0],\n",
        "                  [0,0,0,0.1,0,0,0],\n",
        "                  [0,0,0,0,0.1,0,0],\n",
        "                  [0,0,0,0,0,0.1,0],\n",
        "                  [0,0,0,0,0,0,0.1]])\n",
        "\n",
        "R_EKF = np.array([[0.1]])\n",
        "\n",
        "# Landmark coordinates\n",
        "NL = 5\n",
        "pn_l = np.array([-2,3,-4,1,2])\n",
        "pe_l = np.array([-2,4,2,-3,-1])\n",
        "pd_l = np.array([0,1,-4,1,-2])\n",
        "\n",
        "# Data Collection\n",
        "pn_hat_data = []\n",
        "pe_hat_data = []\n",
        "pd_hat_data = []\n",
        "u_hat_data = []\n",
        "v_hat_data = []\n",
        "w_hat_data = []\n",
        "psi_hat_data = []\n",
        "\n",
        "P_EKF_pn_data=[]\n",
        "P_EKF_pe_data=[]\n",
        "P_EKF_pd_data=[]\n",
        "P_EKF_u_data=[]\n",
        "P_EKF_v_data=[]\n",
        "P_EKF_w_data=[]\n",
        "P_EKF_psi_data=[]\n",
        "\n",
        "NP_EKF_pn_data=[]\n",
        "NP_EKF_pe_data=[]\n",
        "NP_EKF_pd_data=[]\n",
        "NP_EKF_u_data=[]\n",
        "NP_EKF_v_data=[]\n",
        "NP_EKF_w_data=[]\n",
        "NP_EKF_psi_data=[]\n",
        "\n",
        "error_pn_hat = []\n",
        "error_pe_hat = []\n",
        "error_pd_hat = []\n",
        "error_u_hat = []\n",
        "error_v_hat = []\n",
        "error_w_hat = []\n",
        "error_psi_hat = []"
      ],
      "execution_count": null,
      "outputs": []
    },
    {
      "cell_type": "markdown",
      "metadata": {
        "id": "Fpfa3801prDu"
      },
      "source": [
        "# Rotation Matrices"
      ]
    },
    {
      "cell_type": "code",
      "metadata": {
        "id": "PgQ5TsgEptR3"
      },
      "source": [
        "# Rotational Matrix to convert body frame to inertial frame\n",
        "def rot_mat_bod2veh(phi, theta, psi):\n",
        "    R_b_v=np.array([[cos(theta)*cos(psi), sin(phi)*sin(theta)*cos(psi)-cos(phi)*sin(psi), cos(phi)*sin(theta)*cos(psi)+sin(phi)*sin(psi)],\n",
        "                    [cos(theta)*sin(psi), sin(phi)*sin(theta)*sin(psi)+cos(phi)*cos(psi), cos(phi)*sin(theta)*sin(psi)-sin(phi)*cos(psi)],\n",
        "                    [-sin(theta),         sin(phi)*cos(theta),                            cos(phi)*cos(theta)]])\n",
        "    return R_b_v"
      ],
      "execution_count": null,
      "outputs": []
    },
    {
      "cell_type": "code",
      "metadata": {
        "id": "VvdHErk0pu10"
      },
      "source": [
        "# Matrix to orient ned to xyz\n",
        "def axes_ned2yxz():\n",
        "  A_ned = [[0, 1, 0],\n",
        "           [1, 0, 0],\n",
        "           [0, 0, -1]]\n",
        "  return A_ned"
      ],
      "execution_count": null,
      "outputs": []
    },
    {
      "cell_type": "code",
      "metadata": {
        "id": "FOc5uYeipwRS"
      },
      "source": [
        "# Matrix with relationship between derivatives of angles to angular rates\n",
        "def der_ang2rates(phi, theta):\n",
        "  sPh = np.sin(phi)\n",
        "  cPh = np.cos(phi)\n",
        "  sT = np.sin(theta)\n",
        "  cT = np.cos(theta)\n",
        "  TT = np.tan(theta)\n",
        "  d_a_r = [[1, sPh*TT, cPh*TT],\n",
        "           [0, cPh,    -sPh],\n",
        "           [0, sPh/cT, cPh/cT]]\n",
        "  return d_a_r"
      ],
      "execution_count": null,
      "outputs": []
    },
    {
      "cell_type": "code",
      "metadata": {
        "id": "bkHZ4YXIpyLl"
      },
      "source": [
        "# Rotation matrix to eliminate psi\n",
        "def psi_rot_mat(psi):\n",
        "  cPs = np.cos(psi)\n",
        "  sPs = np.sin(psi)\n",
        "  R_psi = np.array([[cPs, sPs, 0],\n",
        "                    [-sPs, cPs, 0],\n",
        "                    [0, 0, 1]])\n",
        "  return R_psi"
      ],
      "execution_count": null,
      "outputs": []
    },
    {
      "cell_type": "markdown",
      "metadata": {
        "id": "TdsMN-E6p1q2"
      },
      "source": [
        "# Controllers"
      ]
    },
    {
      "cell_type": "markdown",
      "metadata": {
        "id": "9waSb7ryqQaV"
      },
      "source": [
        "## Attitude Controller"
      ]
    },
    {
      "cell_type": "code",
      "metadata": {
        "id": "vv6qUG1eqSva"
      },
      "source": [
        "# A, B, Q, R, K matrix for attitude controller\n",
        "A = np.array([[0, 1, 0, 0, 0],\n",
        "              [0, 0, 0, 0, 0],\n",
        "              [0, 0, 0, 1, 0],\n",
        "              [0, 0, 0, 0, 0],\n",
        "              [0, 0, 0, 0, 0]])\n",
        "\n",
        "B = np.array([[0, 0, 0],\n",
        "              [1/Jx, 0, 0],\n",
        "              [0, 0, 0],\n",
        "              [0, 1/Jy, 0],\n",
        "              [0, 0, 1/Jz]])\n",
        "\n",
        "Q = np.array([[10, 0, 0, 0, 0],\n",
        "              [0, 0.1, 0, 0, 0],\n",
        "              [0, 0, 10, 0, 0],\n",
        "              [0, 0, 0, 0.1, 0],\n",
        "              [0, 0, 0, 0, 1]])\n",
        "\n",
        "R1 = [[0.1, 0, 0],\n",
        "      [0, 0.1, 0],\n",
        "      [0, 0, 0.1]]\n",
        "\n",
        "P = np.matrix(linalg.solve_continuous_are(A, B, Q, R1))\n",
        "K = np.matrix(linalg.inv(R1)*(B.T*P))\n",
        "\n",
        "eigVal, eigVec = linalg.eig(A-B*K)"
      ],
      "execution_count": null,
      "outputs": []
    },
    {
      "cell_type": "code",
      "metadata": {
        "id": "P4CJSCXdqVzk"
      },
      "source": [
        "# LQR controller for Attitude Control\n",
        "def roll_lqr(y, y_c, K):\n",
        "  u = -K[0,0]*(y[0]-y_c[0]) -K[0,1]*(y[1]-y_c[1]) -K[0,2]*(y[2]-y_c[2]) -K[0,3]*(y[3]-y_c[3]) -K[0,4]*(y[4]-y_c[4])\n",
        "  return u\n",
        "\n",
        "def pitch_lqr(y, y_c, K):\n",
        "  u = -K[1,0]*(y[0]-y_c[0])-K[1,1]*(y[1]-y_c[1]) -K[1,2]*(y[2]-y_c[2]) -K[1,3]*(y[3]-y_c[3]) -K[1,4]*(y[4]-y_c[4])\n",
        "  return u\n",
        "\n",
        "def yaw_lqr(y, y_c, K):\n",
        "  u = -K[2,0]*(y[0]-y_c[0]) -K[2,1]*(y[1]-y_c[1]) -K[2,2]*(y[2]-y_c[2]) -K[2,3]*(y[3]-y_c[3]) -K[2,4]*(y[4]-y_c[4])\n",
        "  return u"
      ],
      "execution_count": null,
      "outputs": []
    },
    {
      "cell_type": "markdown",
      "metadata": {
        "id": "WY7ilzrYqXLh"
      },
      "source": [
        "## Trajectory Controller"
      ]
    },
    {
      "cell_type": "code",
      "metadata": {
        "id": "CyTE0XZzqc_k"
      },
      "source": [
        "# A, B, Q, R, K matrix for trajectory controller\n",
        "A1 = np.array([[0, 0, 0, 1, 0, 0, 0],\n",
        "               [0, 0, 0, 0, 1, 0, 0],\n",
        "               [0, 0, 0, 0, 0, 1, 0],\n",
        "               [0, 0, 0, 0, 0, 0, 0],\n",
        "               [0, 0, 0, 0, 0, 0, 0],\n",
        "               [0, 0, 0, 0, 0, 0, 0],\n",
        "               [0, 0, 0, 0, 0, 0, 0]])\n",
        "\n",
        "B1 = np.array([[0, 0, 0, 0],\n",
        "               [0, 0, 0, 0],\n",
        "               [0, 0, 0, 0],\n",
        "               [1, 0, 0, 0],\n",
        "               [0, 1, 0, 0],\n",
        "               [0, 0, 1, 0],\n",
        "               [0, 0, 0, 1]])\n",
        "\n",
        "Q1 = np.array([[10**3, 0, 0, 0, 0, 0, 0],\n",
        "               [0, 10**3, 0, 0, 0, 0, 0],\n",
        "               [0, 0, 10**3, 0, 0, 0, 0],\n",
        "               [0, 0, 0, 10**2, 0, 0, 0],\n",
        "               [0, 0, 0, 0, 10**2, 0, 0],\n",
        "               [0, 0, 0, 0, 0, 50, 0],\n",
        "               [0, 0, 0, 0, 0, 0, 10]])\n",
        "\n",
        "R2 = np.array([[25, 0, 0, 0],\n",
        "               [0, 25, 0, 0],\n",
        "               [0, 0, 10, 0],\n",
        "               [0, 0, 0, 10]])\n",
        "\n",
        "P1 = np.matrix(linalg.solve_continuous_are(A1, B1, Q1, R2))\n",
        "K1 = np.matrix(linalg.inv(R2)*(B1.T*P1))\n",
        "\n",
        "eigVal1, eigVec1 = linalg.eig(A1-B1*K1)"
      ],
      "execution_count": null,
      "outputs": []
    },
    {
      "cell_type": "code",
      "metadata": {
        "id": "3rIGaF6mqfJX"
      },
      "source": [
        "# Function to generate reference trajectory and differential flatness\n",
        "def trajectory (t):\n",
        "  # #case a\n",
        "  # a=1.5\n",
        "  # b=0.75\n",
        "  # c=0\n",
        "  # n=-0.75\n",
        "  # T=5\n",
        "  # w1=2*np.pi/T\n",
        "  # w2=w1/2\n",
        "  # w3=w1\n",
        "\n",
        "  # #case b\n",
        "  # a=1.5\n",
        "  # b=0.75\n",
        "  # c=0.5\n",
        "  # n=-0.75\n",
        "  # T=10\n",
        "  # w1=2*np.pi/T\n",
        "  # w2=w1/2\n",
        "  # w3=w1\n",
        "  \n",
        "  #case c\n",
        "  a=0.75\n",
        "  b=0.75\n",
        "  c=0\n",
        "  n=-0.75\n",
        "  T=10\n",
        "  w1=2*np.pi/T\n",
        "  w2=w1\n",
        "  w3=w1\n",
        "\n",
        "  # #case d\n",
        "  # a=1.5\n",
        "  # b=a/2\n",
        "  # c=b/2\n",
        "  # n=-0.75\n",
        "  # T=5*2\n",
        "  # w1=2*np.pi/T\n",
        "  # w2=w1/2\n",
        "  # w3=w1/3\n",
        "   \n",
        "  ytraj=np.array([[a*cos(w2*t)], [b*sin(w1*t)], [n+c*sin(w3*t)], [np.pi/4]])\n",
        "  ydottraj=np.array([[-a*w2*sin(w2*t)], [b*w1*cos(w1*t)], [c*w3*cos(w3*t)], [0]])\n",
        "  yddottraj=np.array([[-a*w2*w2*cos(w2*t)], [-b*w1*w1*sin(w1*t)], [-c*w3*w3*sin(w3*t)], [0]])\n",
        "\n",
        "  # ytraj=np.array([[a*signal.square(w2*t)], [b*signal.square(w1*t)], [n+c*sin(w3*t)], [np.pi/4]])\n",
        "  # ydottraj=np.array([[-a*w2*sin(w2*t)], [b*w1*cos(w1*t)], [c*w3*cos(w3*t)], [0]])\n",
        "  # yddottraj=np.array([[-a*w2*w2*cos(w2*t)], [-b*w1*w1*sin(w1*t)], [-c*w3*w3*sin(w3*t)], [0]])\n",
        "\n",
        "  ur=np.array([yddottraj[0], yddottraj[1], yddottraj[2]-g, yddottraj[3]])   \n",
        "  xr=np.array([ytraj[0], ytraj[1], ytraj[2], ydottraj[0], ydottraj[1], ydottraj[2], ytraj[3]])\n",
        "\n",
        "  pn_t_data.append(a*cos(w2*t))\n",
        "  pe_t_data.append(b*sin(w1*t))\n",
        "  pd_t_data.append(-(n+c*sin(w3*t)))\n",
        "  vn_t_data.append(-a*w2*sin(w2*t))\n",
        "  ve_t_data.append(b*w1*cos(w1*t))\n",
        "  vd_t_data.append(-c*w3*w3*sin(w3*t))\n",
        "  psi_t_data.append(np.pi/4)\n",
        "\n",
        "  return ur, xr"
      ],
      "execution_count": null,
      "outputs": []
    },
    {
      "cell_type": "code",
      "metadata": {
        "id": "kjRfO3vMqhSO"
      },
      "source": [
        "# LQR and Inverse mapping for trajectory control\n",
        "def trajectory_control(states, xr, ur):\n",
        "  pn = states[0]\n",
        "  pe = states[1]\n",
        "  pd = states[2]\n",
        "  u = states[3]\n",
        "  v = states[4]\n",
        "  w = states[5]\n",
        "  phi = states[6]\n",
        "  theta = states[7]\n",
        "  psi = states[8]\n",
        "  p = states[9]\n",
        "  q = states[10]\n",
        "  r = states[11]\n",
        "\n",
        "  x=np.array([[pn], [pe], [pd], [u], [v], [w], [psi]]) # 7 state system\n",
        "\n",
        "  dx = x-xr # error from true to desired states\n",
        "  du = -np.matmul(K1,dx)  # error input = -K*x (LQR)\n",
        "  uc = du+ur  # reference input + error of input\n",
        "\n",
        "  up = np.array([uc[0,0], uc[1,0], uc[2,0]])\n",
        "\n",
        "  F = m*np.sqrt(np.matmul(up.transpose(), up))  # Thrust to input into dynamics\n",
        "\n",
        "  R_psi = psi_rot_mat(psi)\n",
        "  z = -np.matmul(R_psi, up)*m/F\n",
        "\n",
        "  phi_c = np.arcsin(-z[1])  # commanded phi\n",
        "  theta_c = np.arctan2(z[0], z[2])  # commanded theta\n",
        "  r_c = uc[3,0]*cos(phi)*cos(theta)-q*sin(phi)  # commanded r\n",
        "\n",
        "  return F, float(phi_c), float(theta_c), float(r_c)"
      ],
      "execution_count": null,
      "outputs": []
    },
    {
      "cell_type": "markdown",
      "metadata": {
        "id": "ywGAmSZoqmqH"
      },
      "source": [
        "# Sensor Models"
      ]
    },
    {
      "cell_type": "markdown",
      "metadata": {
        "id": "4aczo0sdqqtb"
      },
      "source": [
        "## Gyro Sensor"
      ]
    },
    {
      "cell_type": "code",
      "metadata": {
        "id": "gSHsDPemqtN_"
      },
      "source": [
        "# Gyro Sensor Model\n",
        "def gyro(p,q,r):\n",
        "  gyro = np.array([0, 0, 0], dtype = 'float')\n",
        "  gyro[0] = p + 0.0001 * random.random()\n",
        "  gyro[1] = q + 0.0001 * random.random()\n",
        "  gyro[2] = r + 0.0001 * random.random()\n",
        "  return gyro"
      ],
      "execution_count": null,
      "outputs": []
    },
    {
      "cell_type": "markdown",
      "metadata": {
        "id": "fiyvhCiGqwEW"
      },
      "source": [
        "## Accelerometer Sensor"
      ]
    },
    {
      "cell_type": "code",
      "metadata": {
        "id": "fxiWComKq0R5"
      },
      "source": [
        "# Acceloerometer Sensor model\n",
        "def accm(F):\n",
        "  accm = -F/m + 0.0001 * random.random()\n",
        "  return accm"
      ],
      "execution_count": null,
      "outputs": []
    },
    {
      "cell_type": "markdown",
      "metadata": {
        "id": "Fx56e30Vq1rK"
      },
      "source": [
        "## Range Sensor"
      ]
    },
    {
      "cell_type": "code",
      "metadata": {
        "id": "k-EQAkP7q5DR"
      },
      "source": [
        "# Range Sensor Model\n",
        "def range1(pn, pe, pd):\n",
        "  rho = []\n",
        "  for i in range(NL):\n",
        "    rho.append(np.sqrt((pn_l[i]-pn)**2+(pe_l[i]-pe)**2+(pd_l[i]-pd)**2) + 0.03 * random.random())\n",
        "  return rho"
      ],
      "execution_count": null,
      "outputs": []
    },
    {
      "cell_type": "markdown",
      "metadata": {
        "id": "dHH32HwCq7dF"
      },
      "source": [
        "# Quad Drawing"
      ]
    },
    {
      "cell_type": "markdown",
      "metadata": {
        "id": "wMMSecrawPaW"
      },
      "source": [
        "## Quad Build Function"
      ]
    },
    {
      "cell_type": "code",
      "metadata": {
        "id": "F0qSeF2mq-ze"
      },
      "source": [
        "# function to draw the quad\n",
        "def build_quad(pn, pe, pd, phi, theta, psi):\n",
        "  pn = pn\n",
        "  pe = pe\n",
        "  pd = pd\n",
        "  phi = phi\n",
        "  theta = theta\n",
        "  psi = psi\n",
        "  \n",
        "  # define width to use as reference to construct the quad \n",
        "  w = 0.75\n",
        "\n",
        "  # defining the coordinates of the end points of the quad rotors\n",
        "  p1 = np.array([w, 0, 0]).T\n",
        "  p2 = np.array([-w, 0, 0]).T\n",
        "  p3 = np.array([0, w, 0]).T\n",
        "  p4 = np.array([0, -w, 0]).T\n",
        "\n",
        "  # converting the quadrotor points to interial frame and translating as per ned\n",
        "  R = rot_mat_bod2veh(phi, theta, psi) # rotational matrix\n",
        "  pos_ned = np.array([pn, pe, pd]).T #\n",
        "  p1r = np.matmul(R,p1)+pos_ned\n",
        "  p2r = np.matmul(R,p2)+pos_ned\n",
        "  p3r = np.matmul(R,p3)+pos_ned\n",
        "  p4r = np.matmul(R,p4)+pos_ned\n",
        "\n",
        "  # changing the orientation of ned wrt yxz\n",
        "  A = axes_ned2yxz()\n",
        "  p1ra = np.matmul(A,p1r)\n",
        "  p2ra = np.matmul(A,p2r)\n",
        "  p3ra = np.matmul(A,p3r)\n",
        "  p4ra = np.matmul(A,p4r)\n",
        "\n",
        "  # Rotor coordinates\n",
        "  rot_x = [p1ra[0], p2ra[0], p3ra[0], p4ra[0]]\n",
        "  rot_y = [p1ra[1], p2ra[1], p3ra[1], p4ra[1]]\n",
        "  rot_z = [p1ra[2], p2ra[2], p3ra[2], p4ra[2]]\n",
        "\n",
        "  # Arm coordinates\n",
        "  arm1_x = [p1ra[0], p2ra[0]]\n",
        "  arm1_y = [p1ra[1], p2ra[1]]\n",
        "  arm1_z = [p1ra[2], p2ra[2]]\n",
        "\n",
        "  arm2_x = [p3ra[0], p4ra[0]]\n",
        "  arm2_y = [p3ra[1], p4ra[1]]\n",
        "  arm2_z = [p3ra[2], p4ra[2]]\n",
        "\n",
        "  # defining the coordinates of the payload\n",
        "  v1 = np.array([-w/3,-w/3,w/2]).T\n",
        "  v2 = np.array([-w/3,-w/3,0]).T\n",
        "  v3 = np.array([w/3,-w/3,0]).T\n",
        "  v4 = np.array([w/3,-w/3,w/2]).T\n",
        "  v5 = np.array([w/3,w/3,w/2]).T\n",
        "  v6 = np.array([w/3,w/3,0]).T\n",
        "  v7 = np.array([-w/3,w/3,0]).T\n",
        "  v8 = np.array([-w/3,w/3,w/2]).T\n",
        "\n",
        "  # converting the payload points to interial frame and translating as per ned\n",
        "  v1r = np.matmul(R,v1)+pos_ned\n",
        "  v2r = np.matmul(R,v2)+pos_ned\n",
        "  v3r = np.matmul(R,v3)+pos_ned\n",
        "  v4r = np.matmul(R,v4)+pos_ned\n",
        "  v5r = np.matmul(R,v5)+pos_ned\n",
        "  v6r = np.matmul(R,v6)+pos_ned\n",
        "  v7r = np.matmul(R,v7)+pos_ned\n",
        "  v8r = np.matmul(R,v8)+pos_ned\n",
        "\n",
        "  # changing the orientation of ned wrt yxz\n",
        "  v1ra = np.matmul(A,v1r)\n",
        "  v2ra = np.matmul(A,v2r)\n",
        "  v3ra = np.matmul(A,v3r)\n",
        "  v4ra = np.matmul(A,v4r)\n",
        "  v5ra = np.matmul(A,v5r)\n",
        "  v6ra = np.matmul(A,v6r)\n",
        "  v7ra = np.matmul(A,v7r)\n",
        "  v8ra = np.matmul(A,v8r)\n",
        "\n",
        "  # defining the faces of the payload\n",
        "  f1_x=[v1ra[0], v2ra[0], v3ra[0], v4ra[0], v1ra[0]]\n",
        "  f1_y=[v1ra[1], v2ra[1], v3ra[1], v4ra[1], v1ra[1]]\n",
        "  f1_z=[v1ra[2], v2ra[2], v3ra[2], v4ra[2], v1ra[2]]\n",
        "  f2_x=[v5ra[0], v6ra[0], v7ra[0], v8ra[0], v5ra[0]]\n",
        "  f2_y=[v5ra[1], v6ra[1], v7ra[1], v8ra[1], v5ra[1]]\n",
        "  f2_z=[v5ra[2], v6ra[2], v7ra[2], v8ra[2], v5ra[2]]\n",
        "  f3_x=[v4ra[0], v5ra[0], v6ra[0], v3ra[0], v4ra[0]]\n",
        "  f3_y=[v4ra[1], v5ra[1], v6ra[1], v3ra[1], v4ra[1]]\n",
        "  f3_z=[v4ra[2], v5ra[2], v6ra[2], v3ra[2], v4ra[2]]\n",
        "  f4_x=[v1ra[0], v8ra[0], v7ra[0], v2ra[0], v1ra[0]]\n",
        "  f4_y=[v1ra[1], v8ra[1], v7ra[1], v2ra[1], v1ra[1]]\n",
        "  f4_z=[v1ra[2], v8ra[2], v7ra[2], v2ra[2], v1ra[2]]\n",
        "\n",
        "  return rot_x, rot_y, rot_z, arm1_x, arm1_y, arm1_z, arm2_x, arm2_y, arm2_z, f1_x, f1_y, f1_z, f2_x, f2_y, f2_z, f3_x, f3_y, f3_z, f4_x, f4_y, f4_z"
      ],
      "execution_count": null,
      "outputs": []
    },
    {
      "cell_type": "markdown",
      "metadata": {
        "id": "ETD0SwYJwV9K"
      },
      "source": [
        "## Initial Plot"
      ]
    },
    {
      "cell_type": "code",
      "metadata": {
        "id": "dQIGQQcGrAXR"
      },
      "source": [
        "# Intial Plot\n",
        "fig = plt.figure(figsize=(7,7), dpi=90)\n",
        "ax = fig.add_subplot(1, 1, 1, projection='3d')\n",
        "ax.set_xlim((-3, 3))            \n",
        "ax.set_ylim((-3, 3))\n",
        "ax.set_zlim((-3, 3))\n",
        "ax.set_xlabel('East(x)')\n",
        "ax.set_ylabel('North(y)')\n",
        "ax.set_zlabel('Down(z)')\n",
        "ax.set_title('Quadrotor Simulation (y:ref, k:true)')\n",
        "\n",
        "rot_x, rot_y, rot_z, arm1_x, arm1_y, arm1_z, arm2_x, arm2_y, arm2_z, f1_x, f1_y, f1_z, f2_x, f2_y, f2_z, f3_x, f3_y, f3_z, f4_x, f4_y, f4_z = build_quad(pn, pe, pd, phi, theta, psi)\n",
        "rot_x_hat, rot_y_hat, rot_z_hat, arm1_x_hat, arm1_y_hat, arm1_z_hat, arm2_x_hat, arm2_y_hat, arm2_z_hat, f1_x_hat, f1_y_hat, f1_z_hat, f2_x_hat, f2_y_hat, f2_z_hat, f3_x_hat, f3_y_hat, f3_z_hat, f4_x_hat, f4_y_hat, f4_z_hat = build_quad(pn_hat, pe_hat, pd_hat, phi, theta, psi_hat)\n",
        "\n",
        "# payload\n",
        "face1, = ax.plot(f1_x, f1_y, f1_z, 'b', lw=1.1)\n",
        "face2, = ax.plot(f2_x, f2_y, f2_z, 'r', lw=1.1)\n",
        "face3, = ax.plot(f3_x, f3_y, f3_z, 'g', lw=1.1)\n",
        "face4, = ax.plot(f4_x, f4_y, f4_z, 'y', lw=1.1)\n",
        "\n",
        "# arms and rotors\n",
        "arm1, = ax.plot(arm1_x, arm1_y, arm1_z, 'r-', lw=1.5)\n",
        "arm2, = ax.plot(arm2_x, arm2_y, arm2_z, 'k-', lw=1.5)\n",
        "rotor, = ax.plot(rot_x, rot_y, rot_z, 'bo', ms = 5)\n",
        "\n",
        "#trajectory\n",
        "traj, = ax.plot(pe_data, pn_data, h_data, 'k:', lw=1)\n",
        "traj_ref, = ax.plot(pe_t_data, pn_t_data, pd_t_data, 'y:', lw=1)\n",
        "\n",
        "# Estimated Quad\n",
        "# payload\n",
        "face1_hat, = ax.plot(f1_x_hat, f1_y_hat, f1_z_hat, 'b:', lw=1.1)\n",
        "face2_hat, = ax.plot(f2_x_hat, f2_y_hat, f2_z_hat, 'r:', lw=1.1)\n",
        "face3_hat, = ax.plot(f3_x_hat, f3_y_hat, f3_z_hat, 'g:', lw=1.1)\n",
        "face4_hat, = ax.plot(f4_x_hat, f4_y_hat, f4_z_hat, 'y:', lw=1.1)\n",
        "\n",
        "# arms and rotors\n",
        "arm1_hat, = ax.plot(arm1_x_hat, arm1_y_hat, arm1_z_hat, 'r:', lw=1.5)\n",
        "arm2_hat, = ax.plot(arm2_x_hat, arm2_y_hat, arm2_z_hat, 'k:', lw=1.5)\n",
        "rotor_hat, = ax.plot(rot_x_hat, rot_y_hat, rot_z_hat, 'bo', ms = 5)\n",
        "\n",
        "#trajectory\n",
        "traj_hat, = ax.plot(pe_hat_data, pn_hat_data, pd_hat_data, 'm:', lw=1)"
      ],
      "execution_count": null,
      "outputs": []
    },
    {
      "cell_type": "markdown",
      "metadata": {
        "id": "Ndh__RAWrCkr"
      },
      "source": [
        "# True States"
      ]
    },
    {
      "cell_type": "markdown",
      "metadata": {
        "id": "ZZYZKK5LrFsd"
      },
      "source": [
        "## Dynamics"
      ]
    },
    {
      "cell_type": "code",
      "metadata": {
        "id": "2fNg7oPRvHnR"
      },
      "source": [
        "# Dynamics of the Quadrotor\n",
        "def quad_dyna(t, y, F, T_phi, T_theta, T_psi):\n",
        "  pn = y[0]\n",
        "  pe = y[1]\n",
        "  pd = y[2]\n",
        "  u = y[3]\n",
        "  v = y[4]\n",
        "  w = y[5]\n",
        "  phi = y[6]\n",
        "  theta = y[7]\n",
        "  psi = y[8]\n",
        "  p = y[9]\n",
        "  q = y[10]\n",
        "  r = y[11]\n",
        "\n",
        "  # x_dot of pned, ie velocities\n",
        "  pn_dot = u\n",
        "  pe_dot = v\n",
        "  pd_dot = w\n",
        "  \n",
        "  # vel_dot, ie accelerations \n",
        "  R_b_w = rot_mat_bod2veh(phi,theta,psi)\n",
        "  Thrust = np.array([0, 0, -F/m]).T\n",
        "  gravity = np.array([0, 0, g]).T\n",
        "  Accn = np.matmul(R_b_w, Thrust) + gravity\n",
        "  \n",
        "  u_dot = Accn[0]\n",
        "  v_dot = Accn[1]\n",
        "  w_dot = Accn[2]\n",
        "\n",
        "  # angle_dot, ie angular rates\n",
        "  Der = der_ang2rates(phi, theta)\n",
        "  Ang_vel = np.matmul(Der, np.array([p,q,r]).T)\n",
        "  \n",
        "  phi_dot = Ang_vel[0]\n",
        "  theta_dot = Ang_vel[1]\n",
        "  psi_dot = Ang_vel[2]\n",
        "  \n",
        "  # angular rates_dot, ie angular accelerations\n",
        "  Ang_accn = np.array([T_phi/Jx,T_theta/Jy,T_psi/Jz]).T + np.array([q*r*(Jy-Jz)/Jx,p*r*(Jz-Jx)/Jy,q*p*(Jx-Jy)/Jz]).T\n",
        "\n",
        "  p_dot = Ang_accn[0]\n",
        "  q_dot = Ang_accn[1]\n",
        "  r_dot = Ang_accn[2]\n",
        "\n",
        "  return pn_dot, pe_dot, pd_dot, u_dot, v_dot, w_dot, phi_dot, theta_dot, psi_dot, p_dot, q_dot, r_dot"
      ],
      "execution_count": null,
      "outputs": []
    },
    {
      "cell_type": "markdown",
      "metadata": {
        "id": "-_a3lE_5rgsn"
      },
      "source": [
        "## Solver"
      ]
    },
    {
      "cell_type": "code",
      "metadata": {
        "id": "3o9cvLkn3rVa"
      },
      "source": [
        "# Solving the state space equation\n",
        "def step(states, Ts, i):\n",
        "  pn=states[0]\n",
        "  pe=states[1]\n",
        "  pd=states[2]\n",
        "  u=states[3]\n",
        "  v=states[4]\n",
        "  w=states[5]\n",
        "  phi=states[6]\n",
        "  theta=states[7]\n",
        "  psi=states[8]\n",
        "  p=states[9]\n",
        "  q=states[10]\n",
        "  r=states[11]\n",
        "\n",
        "  ur, xr = trajectory(i/15) # trajectory + diff flat # i/15 is taken to get a smooth curve\n",
        "\n",
        "  F, phi_c, theta_c, r_c = trajectory_control(states, xr, ur)  # LQR + inv map\n",
        "\n",
        "  y = np.array([phi, p, theta, q, r]) # states for attitude controller\n",
        "  y_c = np.array([phi_c, 0, theta_c, 0, r_c]) # commanded states for attitude controller\n",
        "\n",
        "  # Angular Inputs from LQR\n",
        "  T_phi = roll_lqr(y, y_c, K)\n",
        "  T_theta = pitch_lqr(y, y_c, K)\n",
        "  T_psi = yaw_lqr(y, y_c, K)\n",
        "\n",
        "  sol = solve_ivp(lambda t, y: quad_dyna(t, y, F, T_phi, T_theta, T_psi), [0, Ts], [pn, pe, pd, u, v, w, phi, theta, psi, p, q, r], t_eval=np.linspace(0, Ts, 10))\n",
        "  states=sol.y[:,-1].T\n",
        "\n",
        "  # Data collection for plots\n",
        "  pn_data.append(pn)\n",
        "  pe_data.append(pe)\n",
        "  h_data.append(-pd)\n",
        "  vn_data.append(u)\n",
        "  ve_data.append(v)\n",
        "  vd_data.append(w)\n",
        "  phi_data.append(phi)\n",
        "  theta_data.append(theta)\n",
        "  psi_data.append(psi)\n",
        "  p_data.append(p)\n",
        "  q_data.append(q)\n",
        "  r_data.append(r)\n",
        "  phi_c_data.append(phi_c)\n",
        "  theta_c_data.append(theta_c)\n",
        "  r_c_data.append(r_c)\n",
        "\n",
        "  return states, F"
      ],
      "execution_count": null,
      "outputs": []
    },
    {
      "cell_type": "markdown",
      "metadata": {
        "id": "Q0qyi1Ncrobe"
      },
      "source": [
        "# Animation"
      ]
    },
    {
      "cell_type": "code",
      "metadata": {
        "id": "omPMCbBtw4VA"
      },
      "source": [
        "def drawframe(i):\n",
        "  global states\n",
        "  global states_hat\n",
        "  global P_EKF\n",
        "  global Q_EKF\n",
        "  global R_EKF\n",
        "\n",
        "  [pn_hat] = states_hat[0]\n",
        "  [pe_hat] = states_hat[1]\n",
        "  [pd_hat] = states_hat[2]\n",
        "  [u_hat] = states_hat[3]\n",
        "  [v_hat] = states_hat[4]\n",
        "  [w_hat] = states_hat[5]\n",
        "  [psi_hat] = states_hat[6]\n",
        "  \n",
        "  # True States Solver\n",
        "  states, F = step(states, Ts, i)\n",
        "  pn = states[0]\n",
        "  pe = states[1]\n",
        "  pd = states[2]\n",
        "  u = states[3]\n",
        "  v = states[4]\n",
        "  w = states[5]\n",
        "  phi = states[6]\n",
        "  theta = states[7]\n",
        "  psi = states[8]\n",
        "  p = states[9]\n",
        "  q = states[10]\n",
        "  r = states[11]\n",
        "\n",
        "  # Dynamic model for prediction\n",
        "  # Eqn 1\n",
        "  pn_hat_dot = u_hat\n",
        "  pe_hat_dot = v_hat\n",
        "  pd_hat_dot = w_hat\n",
        "  \n",
        "  # Eqn 2\n",
        "  Rbw = rot_mat_bod2veh(phi, theta, psi_hat) # rotational matrix\n",
        "  az = accm(F)\n",
        "  thrust = np.array([0, 0, az]).T\n",
        "  gravity = np.array([0, 0, g]).T\n",
        "  temp1 = np.matmul(Rbw, thrust) + gravity\n",
        "  u_hat_dot = temp1[0]\n",
        "  v_hat_dot = temp1[1]\n",
        "  w_hat_dot = temp1[2]\n",
        "\n",
        "  # Eqn 3\n",
        "  temp2 = gyro(p, q, r)\n",
        "  p_hat = temp2[0]\n",
        "  q_hat = temp2[1]\n",
        "  r_hat = temp2[2]\n",
        "  psi_hat_dot = q_hat*(sin(phi)/cos(theta)) + r_hat*(cos(phi)/cos(theta))\n",
        "\n",
        "  states_hat_dot = np.array([[pn_hat_dot],\n",
        "                             [pe_hat_dot],\n",
        "                             [pd_hat_dot],\n",
        "                             [u_hat_dot],\n",
        "                             [v_hat_dot],\n",
        "                             [w_hat_dot],\n",
        "                             [psi_hat_dot]])\n",
        "  \n",
        "  \n",
        "  states_hat = states_hat + Ts * states_hat_dot\n",
        "  [pn_hat] = states_hat[0] \n",
        "  [pe_hat] = states_hat[1]\n",
        "  [pd_hat] = states_hat[2]\n",
        "  [u_hat] = states_hat[3]\n",
        "  [v_hat] = states_hat[4]\n",
        "  [w_hat] = states_hat[5]\n",
        "  [psi_hat] = states_hat[6]\n",
        "\n",
        "  # jacobian for the state space equation\n",
        "  A_jac = np.array([[0, 0, 0, 1, 0, 0, 0],\n",
        "                    [0, 0, 0, 0, 1, 0, 0],\n",
        "                    [0, 0, 0, 0, 0, 1, 0],\n",
        "                    [0, 0, 0, 0, 0, 0, az*cos(psi_hat)*sin(phi) - az*cos(phi)*sin(psi_hat)*sin(theta)],\n",
        "                    [0, 0, 0, 0, 0, 0, az*sin(phi)*sin(psi_hat) + az*cos(phi)*cos(psi_hat)*sin(theta)],\n",
        "                    [0, 0, 0, 0, 0, 0, 0],\n",
        "                    [0, 0, 0, 0, 0, 0, 0]])\n",
        "  \n",
        "  P_EKF_dot = np.matmul(A_jac, P_EKF) + np.matmul(P_EKF, A_jac.transpose()) + Q_EKF\n",
        "  P_EKF = P_EKF + Ts*P_EKF_dot\n",
        "\n",
        "  rho = range1(pn, pe, pd)\n",
        "  \n",
        "  #Update\n",
        "  for i in range(NL):\n",
        "    C_i = np.array([[(pn_hat-pn_l[i])/(math.sqrt((pn_hat-pn_l[i])**2+(pe_hat-pe_l[i])**2+(pd_hat-pd_l[i])**2)),(pe_hat-pe_l[i])/(math.sqrt((pn_hat-pn_l[i])**2+(pe_hat-pe_l[i])**2+(pd_hat-pd_l[i])**2)),(pd_hat-pd_l[i])/(math.sqrt((pn_hat-pn_l[i])**2+(pe_hat-pe_l[i])**2+(pd_hat-pd_l[i])**2)),0,0,0,0]])\n",
        "    var1 = np.matmul(C_i, P_EKF)\n",
        "    var2 = np.matmul(var1, np.transpose(C_i))\n",
        "    var3 = np.linalg.inv(np.array(R_EKF+var2))\n",
        "    var4 = np.matmul(np.transpose(C_i), var3)\n",
        "    L_i = np.matmul(P_EKF, var4)\n",
        "    var5 = rho[i]-math.sqrt((pn_hat-pn_l[i])**2+(pe_hat-pe_l[i])**2+(pd_hat-pd_l[i])**2)\n",
        "    states_hat = states_hat + var5*L_i\n",
        "    [pn_hat] = states_hat[0]\n",
        "    [pe_hat] = states_hat[1]\n",
        "    [pd_hat] = states_hat[2]\n",
        "    [u_hat] = states_hat[3]\n",
        "    [v_hat] = states_hat[4]\n",
        "    [w_hat] = states_hat[5]\n",
        "    [psi_hat] = states_hat[6]\n",
        "    var6 = np.matmul(L_i,C_i)\n",
        "    var7 = np.identity(7)-var6\n",
        "    P_EKF = np.matmul(var7, P_EKF)\n",
        "\n",
        "  pn_hat_data.append(pn_hat)\n",
        "  pe_hat_data.append(pe_hat)\n",
        "  pd_hat_data.append(-pd_hat)\n",
        "  u_hat_data.append(u_hat)\n",
        "  v_hat_data.append(v_hat)\n",
        "  w_hat_data.append(w_hat)\n",
        "  psi_hat_data.append(psi_hat)\n",
        "\n",
        "  P_EKF_pn_data.append(3*math.sqrt(P_EKF[0,0]))\n",
        "  P_EKF_pe_data.append(3*math.sqrt(P_EKF[1,1]))\n",
        "  P_EKF_pd_data.append(3*math.sqrt(P_EKF[2,2]))\n",
        "  P_EKF_u_data.append(3*math.sqrt(P_EKF[3,3]))\n",
        "  P_EKF_v_data.append(3*math.sqrt(P_EKF[4,4]))\n",
        "  P_EKF_w_data.append(3*math.sqrt(P_EKF[5,5]))\n",
        "  P_EKF_psi_data.append(3*math.sqrt(P_EKF[6,6]))\n",
        "\n",
        "  NP_EKF_pn_data.append(-3*math.sqrt(P_EKF[0,0]))\n",
        "  NP_EKF_pe_data.append(-3*math.sqrt(P_EKF[1,1]))\n",
        "  NP_EKF_pd_data.append(-3*math.sqrt(P_EKF[2,2]))\n",
        "  NP_EKF_u_data.append(-3*math.sqrt(P_EKF[3,3]))\n",
        "  NP_EKF_v_data.append(-3*math.sqrt(P_EKF[4,4]))\n",
        "  NP_EKF_w_data.append(-3*math.sqrt(P_EKF[5,5]))\n",
        "  NP_EKF_psi_data.append(-3*math.sqrt(P_EKF[6,6]))\n",
        "\n",
        "  error_pn_hat.append(pn-pn_hat)\n",
        "  error_pe_hat.append(pe-pe_hat)\n",
        "  error_pd_hat.append(pd-pd_hat)\n",
        "  error_u_hat.append(u-u_hat)\n",
        "  error_v_hat.append(v-v_hat)\n",
        "  error_w_hat.append(w-w_hat)\n",
        "  error_psi_hat.append(psi-psi_hat)\n",
        "\n",
        "  # Build quad using true states and estimated states\n",
        "  rot_x, rot_y, rot_z, arm1_x, arm1_y, arm1_z, arm2_x, arm2_y, arm2_z, f1_x, f1_y, f1_z, f2_x, f2_y, f2_z, f3_x, f3_y, f3_z, f4_x, f4_y, f4_z = build_quad(pn, pe, pd, phi, theta, psi)\n",
        "  rot_x_hat, rot_y_hat, rot_z_hat, arm1_x_hat, arm1_y_hat, arm1_z_hat, arm2_x_hat, arm2_y_hat, arm2_z_hat, f1_x_hat, f1_y_hat, f1_z_hat, f2_x_hat, f2_y_hat, f2_z_hat, f3_x_hat, f3_y_hat, f3_z_hat, f4_x_hat, f4_y_hat, f4_z_hat = build_quad(pn_hat, pe_hat, pd_hat, phi, theta, psi_hat)\n",
        "\n",
        "  face1.set_data(f1_x, f1_y)\n",
        "  face1.set_3d_properties(f1_z)\n",
        "  face2.set_data(f2_x, f2_y)\n",
        "  face2.set_3d_properties(f2_z)\n",
        "  face3.set_data(f3_x, f3_y)\n",
        "  face3.set_3d_properties(f3_z)\n",
        "  face4.set_data(f4_x, f4_y)\n",
        "  face4.set_3d_properties(f3_z)\n",
        "\n",
        "  arm1.set_data(arm1_x, arm1_y)\n",
        "  arm1.set_3d_properties(arm1_z)\n",
        "  arm2.set_data(arm2_x, arm2_y)\n",
        "  arm2.set_3d_properties(arm2_z)\n",
        "  rotor.set_data(rot_x, rot_y)\n",
        "  rotor.set_3d_properties(rot_z)\n",
        "\n",
        "  traj.set_data(pe_data, pn_data)\n",
        "  traj.set_3d_properties(h_data)\n",
        "\n",
        "  traj_ref.set_data(pe_t_data, pn_t_data)\n",
        "  traj_ref.set_3d_properties(pd_t_data)\n",
        "\n",
        "  face1_hat.set_data(f1_x_hat, f1_y_hat)\n",
        "  face1_hat.set_3d_properties(f1_z_hat)\n",
        "  face2_hat.set_data(f2_x_hat, f2_y_hat)\n",
        "  face2_hat.set_3d_properties(f2_z_hat)\n",
        "  face3_hat.set_data(f3_x_hat, f3_y_hat)\n",
        "  face3_hat.set_3d_properties(f3_z_hat)\n",
        "  face4_hat.set_data(f4_x_hat, f4_y_hat)\n",
        "  face4_hat.set_3d_properties(f3_z_hat)\n",
        "\n",
        "  arm1_hat.set_data(arm1_x_hat, arm1_y_hat)\n",
        "  arm1_hat.set_3d_properties(arm1_z_hat)\n",
        "  arm2_hat.set_data(arm2_x_hat, arm2_y_hat)\n",
        "  arm2_hat.set_3d_properties(arm2_z_hat)\n",
        "  rotor_hat.set_data(rot_x_hat, rot_y_hat)\n",
        "  rotor_hat.set_3d_properties(rot_z_hat)\n",
        "\n",
        "  traj_hat.set_data(pe_hat_data, pn_hat_data)\n",
        "  traj_hat.set_3d_properties(pd_hat_data)\n",
        "\n",
        "  return face1, face2, face3, face4, arm1, arm2, rotor, traj, traj_ref, face1_hat, face2_hat, face3_hat, face4_hat, arm1_hat, arm2_hat, rotor_hat, traj_hat"
      ],
      "execution_count": null,
      "outputs": []
    },
    {
      "cell_type": "code",
      "metadata": {
        "id": "q4W1SFh3tl90"
      },
      "source": [
        "# Creating the Simulatiom\n",
        "ax.set_xlabel('East(x)')\n",
        "ax.set_ylabel('North(y)')\n",
        "ax.set_zlabel('Down(z)')\n",
        "ax.set_title('Quadrotor Simulation (y:ref, k:true, m:ekf)')\n",
        "# blit=True re-draws only the parts that have changed.\n",
        "anim = animation.FuncAnimation(fig, drawframe, frames=frames, interval=40, blit=True)"
      ],
      "execution_count": null,
      "outputs": []
    },
    {
      "cell_type": "markdown",
      "metadata": {
        "id": "ySKXpxs7tpFn"
      },
      "source": [
        "## Video"
      ]
    },
    {
      "cell_type": "code",
      "metadata": {
        "id": "D8Lxs9pf2Una"
      },
      "source": [
        "# Converting the animated result into a html5 video for visualization\n",
        "HTML(anim.to_html5_video())"
      ],
      "execution_count": null,
      "outputs": []
    },
    {
      "cell_type": "markdown",
      "metadata": {
        "id": "6gFdkp0ItzIA"
      },
      "source": [
        "# Plots"
      ]
    },
    {
      "cell_type": "markdown",
      "metadata": {
        "id": "t7NbtI1c4wlD"
      },
      "source": [
        "## State Plots"
      ]
    },
    {
      "cell_type": "code",
      "metadata": {
        "id": "Vwfo90H2tuU2"
      },
      "source": [
        "# Figure to plot the states against time step\n",
        "fig1 = plt.figure(figsize=(20,20))\n",
        "\n",
        "ax1 = fig1.add_subplot(4, 3, 1)\n",
        "ax1.set_xlabel('Time Step')\n",
        "ax1.set_ylabel('Pn')\n",
        "ax1.set_title('State Plot of North (b:true, r:ref, bl:ekf)')\n",
        "pn1 = ax1.plot(range(len(pn_data)),pn_data)\n",
        "pn_t1 = ax1.plot(range(len(pn_t_data)),pn_t_data, 'r:')\n",
        "pn_hat1 = ax1.plot(range(len(pn_hat_data)),pn_hat_data, 'k--')\n",
        "\n",
        "ax2 = fig1.add_subplot(4, 3, 2)\n",
        "ax2.set_xlabel('Time Step')\n",
        "ax2.set_ylabel('Pe')\n",
        "ax2.set_title('State Plot of East (b:true, r:ref, bl:ekf)')\n",
        "pe1 = ax2.plot(range(len(pe_data)),pe_data)\n",
        "pe_t1 = ax2.plot(range(len(pe_t_data)),pe_t_data, 'r:')\n",
        "pe_hat1 = ax2.plot(range(len(pe_hat_data)),pe_hat_data, 'k--')\n",
        "\n",
        "ax3 = fig1.add_subplot(4, 3, 3)\n",
        "ax3.set_xlabel('Time Step')\n",
        "ax3.set_ylabel('h')\n",
        "ax3.set_title('State Plot of Down (b:true, r:ref, bl:ekf)')\n",
        "h1 = ax3.plot(range(len(h_data)),h_data)\n",
        "pd_t1 = ax3.plot(range(len(pd_t_data)),pd_t_data, 'r:')\n",
        "pd_hat1 = ax3.plot(range(len(pd_hat_data)),pd_hat_data, 'k--')\n",
        "\n",
        "ax4 = fig1.add_subplot(4, 3, 4)\n",
        "ax4.set_xlabel('Time Step')\n",
        "ax4.set_ylabel('Vn')\n",
        "ax4.set_title('State Plot of Velocity due north (b:true, r:ref, bl:ekf)')\n",
        "vn1 = ax4.plot(range(len(vn_data)),vn_data)\n",
        "vn_t1 = ax4.plot(range(len(vn_t_data)),vn_t_data, 'r:')\n",
        "vn_hat1 = ax4.plot(range(len(u_hat_data)),u_hat_data, 'k--')\n",
        "\n",
        "ax5 = fig1.add_subplot(4, 3, 5)\n",
        "ax5.set_xlabel('Time Step')\n",
        "ax5.set_ylabel('Ve')\n",
        "ax5.set_title('State Plot of Velocity due east (b:true, r:ref, bl:ekf)')\n",
        "ve1 = ax5.plot(range(len(ve_data)),ve_data)\n",
        "ve_t1 = ax5.plot(range(len(ve_t_data)),ve_t_data, 'r:')\n",
        "ve_hat1 = ax5.plot(range(len(v_hat_data)),v_hat_data, 'k--')\n",
        "\n",
        "ax6 = fig1.add_subplot(4, 3, 6)\n",
        "ax6.set_xlabel('Time Step')\n",
        "ax6.set_ylabel('Vd')\n",
        "ax6.set_title('State Plot of Velocity due down (b:true, r:ref, bl:ekf)')\n",
        "vd1 = ax6.plot(range(len(vd_data)),vd_data)\n",
        "vd_t1 = ax6.plot(range(len(vd_t_data)),vd_t_data, 'r:')\n",
        "vd_hat1 = ax6.plot(range(len(w_hat_data)),w_hat_data, 'k--')\n",
        "\n",
        "ax7 = fig1.add_subplot(4, 3, 7)\n",
        "ax7.set_xlabel('Time Step')\n",
        "ax7.set_ylabel('Phi')\n",
        "ax7.set_title('State Plot of Phi (b:true, r:cmd)')\n",
        "phi1 = ax7.plot(range(len(phi_data)),phi_data)\n",
        "phi_c1 = ax7.plot(range(len(phi_c_data)),phi_c_data, 'r:')\n",
        "\n",
        "ax8 = fig1.add_subplot(4, 3, 8)\n",
        "ax8.set_xlabel('Time Step')\n",
        "ax8.set_ylabel('Theta')\n",
        "ax8.set_title('State Plot of Theta (b:true, r:cmd)')\n",
        "theta1 = ax8.plot(range(len(theta_data)),theta_data)\n",
        "theta_c1 = ax8.plot(range(len(theta_c_data)),theta_c_data, 'r:')\n",
        "\n",
        "ax9 = fig1.add_subplot(4, 3, 9)\n",
        "ax9.set_xlabel('Time Step')\n",
        "ax9.set_ylabel('Psi')\n",
        "ax9.set_title('State Plot of Psi (b:true, r:ref, bl:ekf)')\n",
        "psi1 = ax9.plot(range(len(psi_data)),psi_data)\n",
        "psi_t1 = ax9.plot(range(len(psi_t_data)),psi_t_data, 'r:')\n",
        "psi_hat1 = ax9.plot(range(len(psi_hat_data)),psi_hat_data, 'k--')\n",
        "\n",
        "ax10 = fig1.add_subplot(4, 3, 10)\n",
        "ax10.set_xlabel('Time Step')\n",
        "ax10.set_ylabel('P')\n",
        "ax10.set_title('State Plot of Angular rate wrt Phi')\n",
        "p1 = ax10.plot(range(len(p_data)),p_data)\n",
        "\n",
        "ax11 = fig1.add_subplot(4, 3, 11)\n",
        "ax11.set_xlabel('Time Step')\n",
        "ax11.set_ylabel('Q')\n",
        "ax11.set_title('State Plot of Angular rate wrt Theta')\n",
        "q1 = ax11.plot(range(len(q_data)),q_data)\n",
        "\n",
        "ax12 = fig1.add_subplot(4, 3, 12)\n",
        "ax12.set_xlabel('Time Step')\n",
        "ax12.set_ylabel('R')\n",
        "ax12.set_title('State Plot of Angular rate wrt Psi (b:true, r:cmd)')\n",
        "r1 = ax12.plot(range(len(r_data)),r_data)\n",
        "r_c1 = ax12.plot(range(len(r_c_data)),r_c_data, 'r:')"
      ],
      "execution_count": null,
      "outputs": []
    },
    {
      "cell_type": "markdown",
      "metadata": {
        "id": "Pu7MiZw84lgM"
      },
      "source": [
        "## Error and Error Covariance"
      ]
    },
    {
      "cell_type": "code",
      "metadata": {
        "id": "0MOPVNypx-xf"
      },
      "source": [
        "# Plot show error between true states and estimated states using EKF\n",
        "fig2 = plt.figure(figsize=(20,15))\n",
        "\n",
        "ax13 = fig2.add_subplot(3, 3, 1)\n",
        "ax13.set_xlabel('Time Step'), \n",
        "ax13.set_ylabel('Pn')\n",
        "ax13.set_title('Error for Pn')\n",
        "P_EKF_pn1 = ax13.plot(range(len(P_EKF_pn_data)),P_EKF_pn_data, 'b')\n",
        "error_pn1 = ax13.plot(range(len(error_pn_hat)),error_pn_hat, 'r')\n",
        "NP_EKF_pn1 = ax13.plot(range(len(NP_EKF_pn_data)),NP_EKF_pn_data, 'k')\n",
        "\n",
        "ax14 = fig2.add_subplot(3, 3, 2)\n",
        "ax14.set_xlabel('Time Step'), \n",
        "ax14.set_ylabel('Pe')\n",
        "ax14.set_title('Error for Pe')\n",
        "P_EKF_pe1 = ax14.plot(range(len(P_EKF_pe_data)),P_EKF_pe_data, 'b')\n",
        "error_pe1 = ax14.plot(range(len(error_pe_hat)),error_pe_hat, 'r')\n",
        "NP_EKF_pe1 = ax14.plot(range(len(NP_EKF_pe_data)),NP_EKF_pe_data, 'k')\n",
        "\n",
        "ax15 = fig2.add_subplot(3, 3, 3)\n",
        "ax15.set_xlabel('Time Step'), \n",
        "ax15.set_ylabel('Pd')\n",
        "ax15.set_title('Error for Pd')\n",
        "P_EKF_pd1 = ax15.plot(range(len(P_EKF_pd_data)),P_EKF_pd_data, 'b')\n",
        "error_pd1 = ax15.plot(range(len(error_pd_hat)),error_pd_hat, 'r')\n",
        "NP_EKF_pd1 = ax15.plot(range(len(NP_EKF_pd_data)),NP_EKF_pd_data, 'k')\n",
        "\n",
        "ax16 = fig2.add_subplot(3, 3, 4)\n",
        "ax16.set_xlabel('Time Step'), \n",
        "ax16.set_ylabel('u')\n",
        "ax16.set_title('Error for u')\n",
        "P_EKF_u1 = ax16.plot(range(len(P_EKF_u_data)),P_EKF_u_data, 'b')\n",
        "error_u1 = ax16.plot(range(len(error_u_hat)),error_u_hat, 'r')\n",
        "NP_EKF_u1 = ax16.plot(range(len(NP_EKF_u_data)),NP_EKF_u_data, 'k')\n",
        "\n",
        "ax17 = fig2.add_subplot(3, 3, 5)\n",
        "ax17.set_xlabel('Time Step'), \n",
        "ax17.set_ylabel('v')\n",
        "ax17.set_title('Error for v')\n",
        "P_EKF_v1 = ax17.plot(range(len(P_EKF_v_data)),P_EKF_v_data, 'b')\n",
        "error_v1 = ax17.plot(range(len(error_v_hat)),error_v_hat, 'r')\n",
        "NP_EKF_v1 = ax17.plot(range(len(NP_EKF_v_data)),NP_EKF_v_data, 'k')\n",
        "\n",
        "ax18 = fig2.add_subplot(3, 3, 6)\n",
        "ax18.set_xlabel('Time Step'), \n",
        "ax18.set_ylabel('w')\n",
        "ax18.set_title('Error for w')\n",
        "P_EKF_w1 = ax18.plot(range(len(P_EKF_w_data)),P_EKF_w_data, 'b')\n",
        "error_w1 = ax18.plot(range(len(error_w_hat)),error_w_hat, 'r')\n",
        "NP_EKF_w1 = ax18.plot(range(len(NP_EKF_w_data)),NP_EKF_w_data, 'k')\n",
        "\n",
        "ax19 = fig2.add_subplot(3, 3, 7)\n",
        "ax19.set_xlabel('Time Step'), \n",
        "ax19.set_ylabel('Psi')\n",
        "ax19.set_title('Error for Psi')\n",
        "P_EKF_psi1 = ax19.plot(range(len(P_EKF_psi_data)),P_EKF_psi_data, 'b')\n",
        "error_psi1 = ax19.plot(range(len(error_psi_hat)),error_psi_hat, 'r')\n",
        "NP_EKF_psi1 = ax19.plot(range(len(NP_EKF_psi_data)),NP_EKF_psi_data, 'k')"
      ],
      "execution_count": null,
      "outputs": []
    }
  ]
}